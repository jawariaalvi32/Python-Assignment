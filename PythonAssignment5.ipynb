{
 "cells": [
  {
   "cell_type": "code",
   "execution_count": 12,
   "metadata": {},
   "outputs": [
    {
     "name": "stdout",
     "output_type": "stream",
     "text": [
      "Enter a number5\n",
      "Factorial: 120\n"
     ]
    }
   ],
   "source": [
    "#Write a Python function to calculate the factorial of a number (a non-negative integer). The function accepts the number as \n",
    "#an argument.\n",
    "\n",
    "def factorial(no):\n",
    "    ans=1\n",
    "    while(no!=0):\n",
    "        ans=ans*no\n",
    "        no=no-1\n",
    "    return ans\n",
    "\n",
    "no=int(input(\"Enter a number\"))\n",
    "print(\"Factorial:\",factorial(no))\n",
    "\n"
   ]
  },
  {
   "cell_type": "code",
   "execution_count": 28,
   "metadata": {},
   "outputs": [
    {
     "name": "stdout",
     "output_type": "stream",
     "text": [
      "enter stringJawaRia\n",
      "No of Lower character 5\n",
      "No of Upper character 2\n"
     ]
    }
   ],
   "source": [
    "#Write a Python function that accepts a string and calculate the number of upper\n",
    "#case letters and lower case letters.\n",
    "\n",
    "def Calculate (str):\n",
    "    upper=0\n",
    "    lower=0\n",
    "    for i in str:\n",
    "        if(i.islower()):\n",
    "            lower=lower+1\n",
    "        elif(i.isupper()):\n",
    "            upper=upper+1\n",
    "            \n",
    "    print (\"No of Lower character\",lower)\n",
    "    print (\"No of Upper character\",upper)\n",
    "    \n",
    "str=input(\"enter string\")\n",
    "Calculate(str)"
   ]
  },
  {
   "cell_type": "code",
   "execution_count": 31,
   "metadata": {},
   "outputs": [
    {
     "name": "stdout",
     "output_type": "stream",
     "text": [
      "Even no in lists are:\n",
      "2\n",
      "4\n",
      "6\n",
      "4\n"
     ]
    }
   ],
   "source": [
    "#Write a Python function to print the even numbers from a given list.\n",
    "\n",
    "print (\"Even no in lists are:\")\n",
    "mylist=[2,3,4,5,7,6,4]\n",
    "for i in mylist:\n",
    "    if(i%2==0):\n",
    "        print(i)"
   ]
  },
  {
   "cell_type": "code",
   "execution_count": 35,
   "metadata": {},
   "outputs": [
    {
     "name": "stdout",
     "output_type": "stream",
     "text": [
      "enter string madam\n",
      "Palindrome\n"
     ]
    }
   ],
   "source": [
    "#Write a Python function that checks whether a passed string is palindrome or not.\n",
    "\n",
    "def palindrome(str):\n",
    "    strrev=reversed(str)\n",
    "    if(list(str)==list(strrev)):\n",
    "        print(\"Palindrome\")\n",
    "    else:\n",
    "        print(\"Not a Palindrome\")\n",
    "\n",
    "str=input(\"enter string \")\n",
    "palindrome(str)"
   ]
  },
  {
   "cell_type": "code",
   "execution_count": 49,
   "metadata": {},
   "outputs": [
    {
     "name": "stdout",
     "output_type": "stream",
     "text": [
      "Enter No 5\n",
      "Number is prime\n"
     ]
    }
   ],
   "source": [
    "#Write a Python function that takes a number as a parameter and check the number is prime or not.\n",
    "\n",
    "def prime(no):\n",
    "    i=no\n",
    "    p=0\n",
    "    while(i>0):\n",
    "        if(no%i)==0:\n",
    "            p=p+1\n",
    "        i=i-1\n",
    "    \n",
    "    if(p==2):\n",
    "        print(\"Number is prime\")\n",
    "    else:\n",
    "        print(\"Not a prime number\")\n",
    "        \n",
    "no=int(input(\"Enter No \"))\n",
    "prime(no)\n",
    "            "
   ]
  },
  {
   "cell_type": "code",
   "execution_count": 68,
   "metadata": {},
   "outputs": [
    {
     "name": "stdout",
     "output_type": "stream",
     "text": [
      "Enter Shopping item and 0 to stop shopping: sticker\n",
      "Enter Shopping item and 0 to stop shopping: pen\n",
      "Enter Shopping item and 0 to stop shopping: towel\n",
      "Enter Shopping item and 0 to stop shopping: pins\n",
      "Enter Shopping item and 0 to stop shopping: dresses\n",
      "Enter Shopping item and 0 to stop shopping: shoes\n",
      "Enter Shopping item and 0 to stop shopping: 0\n",
      "You purchased: sticker\n",
      "You purchased: pen\n",
      "You purchased: towel\n",
      "You purchased: pins\n",
      "You purchased: dresses\n",
      "You purchased: shoes\n"
     ]
    }
   ],
   "source": [
    "#Write a function which accepts the multiple arguments of user shopping list print all the items which user bought from market.\n",
    "\n",
    "\n",
    "def shoppingList(*items):\n",
    "    for item in range(len(shoppingItems)):\n",
    "        print(\"You purchased:\",format(shoppingItems[item]))\n",
    "        \n",
    "        \n",
    "shoppingItems = []\n",
    "while True:\n",
    "    item = input(\"Enter Shopping item and 0 to stop shopping: \")\n",
    "    if item != '0':\n",
    "            shoppingItems.append(item)\n",
    "    else:\n",
    "                break\n",
    "            \n",
    "shoppingList(shoppingList)\n"
   ]
  },
  {
   "cell_type": "code",
   "execution_count": null,
   "metadata": {},
   "outputs": [],
   "source": [
    "\n"
   ]
  },
  {
   "cell_type": "code",
   "execution_count": null,
   "metadata": {},
   "outputs": [],
   "source": []
  }
 ],
 "metadata": {
  "kernelspec": {
   "display_name": "Python 3",
   "language": "python",
   "name": "python3"
  },
  "language_info": {
   "codemirror_mode": {
    "name": "ipython",
    "version": 3
   },
   "file_extension": ".py",
   "mimetype": "text/x-python",
   "name": "python",
   "nbconvert_exporter": "python",
   "pygments_lexer": "ipython3",
   "version": "3.7.4"
  }
 },
 "nbformat": 4,
 "nbformat_minor": 2
}
