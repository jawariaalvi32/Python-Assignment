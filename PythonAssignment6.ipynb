{
 "cells": [
  {
   "cell_type": "markdown",
   "metadata": {},
   "source": [
    "# 1.What is OOP?\n",
    "\n",
    "## Object-oriented programming (OOP) is a programming language model in which programs are organized around data, or objects, rather than functions and logic. An object can be defined as a data field that has unique attributes and behavior. Examples of an object can range from physical entities, such as a human being that is described by properties like name and address, down to small computer programs, such as widgets.\n",
    "\n",
    "\n"
   ]
  },
  {
   "cell_type": "markdown",
   "metadata": {},
   "source": [
    "#  2.List down the Benefits of OOP?\n",
    "\n",
    "##  One of the principal advantages of object-oriented programming techniques over procedural programming techniques is that they enable programmers to create modules that do not need to be changed when a new type of object is added.\n",
    "## A programmer can simply create a new object that inherits many of its features from existing objects. This makes object-oriented programs easier to modify."
   ]
  },
  {
   "cell_type": "markdown",
   "metadata": {},
   "source": [
    "# 3.Differentiate between function and method?\n",
    "\n",
    "## A function is a piece of code that is called by name. It can be passed data to operate on (i.e. the parameters) and can optionally return data (the return value). All data that is passed to a function is explicitly passed.\n",
    "\n",
    "## A method is a piece of code that is called by a name that is associated with an object. In most respects it is identical to a function except for two key differences:\n",
    "\n",
    "## A method is implicitly passed the object on which it was called.\n",
    "## A method is able to operate on data that is contained within the class (remembering that an object is an instance of a class - the class is the definition, the object is an instance of that data)."
   ]
  },
  {
   "cell_type": "markdown",
   "metadata": {},
   "source": [
    "# 4. Define the following terms:\n",
    "\n",
    "## CLASS\n",
    "### A class is an entity that determines how an object will behave and what the object will contain. In other words, it is a blueprint or a set of instruction to build a specific type of object.\n",
    "\n",
    "## OBJECT\n",
    "###  An object is a self-contained component which consists of methods and properties to make a particular type of data useful.\n",
    "\n",
    "## ATTRIBUTE\n",
    "### Attributes are the characteristics of the class that help to distinguish it from other classes.\n",
    "\n",
    "## BEHAVIOUR\n",
    "### Behaviors are the tasks that an object performs\n",
    "\n"
   ]
  },
  {
   "cell_type": "code",
   "execution_count": 22,
   "metadata": {},
   "outputs": [
    {
     "name": "stdout",
     "output_type": "stream",
     "text": [
      "Model t9e4\n",
      "Color green\n",
      " name  rr\n",
      "Color green\n",
      "Model cv\n"
     ]
    }
   ],
   "source": [
    "#Q5\n",
    "class Car:\n",
    "    def __init__(self,model, color, name,door,windows):\n",
    "        self.model = model\n",
    "        self.color = color\n",
    "        self.name=name\n",
    "        self.door=door\n",
    "        self.windows=windows\n",
    "    \n",
    "    def printmdl(abc):\n",
    "        print(\"Model \" + abc.model)\n",
    "        \n",
    "        \n",
    "    def printclr(abc):\n",
    "        print(\"Color \" + abc.color)\n",
    "        \n",
    "        \n",
    "    def printnme(abc):\n",
    "        print(\" name  \" + abc.name)\n",
    "    \n",
    "c1 =Car(\"t9e4\",\"blue\",\"BMW\",4,3)\n",
    "c1.printmdl()\n",
    "\n",
    "c2=Car(\"abc\",\"green\",\"rr\",2,3)\n",
    "c2.printclr()\n",
    "\n",
    "c3=Car(\"abc\",\"black\",\"rr\",6,3)\n",
    "c3.printnme()\n",
    "\n",
    "c4=Car(\"uu\",\"green\",\"rr\",3,3)\n",
    "c4.printclr()\n",
    "\n",
    "c5=Car(\"cv\",\"yellow\",\"rr\",2,3)\n",
    "c5.printmdl()\n"
   ]
  },
  {
   "cell_type": "code",
   "execution_count": null,
   "metadata": {},
   "outputs": [],
   "source": []
  },
  {
   "cell_type": "code",
   "execution_count": null,
   "metadata": {},
   "outputs": [],
   "source": []
  },
  {
   "cell_type": "code",
   "execution_count": null,
   "metadata": {},
   "outputs": [],
   "source": []
  },
  {
   "cell_type": "code",
   "execution_count": null,
   "metadata": {},
   "outputs": [],
   "source": []
  }
 ],
 "metadata": {
  "kernelspec": {
   "display_name": "Python 3",
   "language": "python",
   "name": "python3"
  },
  "language_info": {
   "codemirror_mode": {
    "name": "ipython",
    "version": 3
   },
   "file_extension": ".py",
   "mimetype": "text/x-python",
   "name": "python",
   "nbconvert_exporter": "python",
   "pygments_lexer": "ipython3",
   "version": "3.7.4"
  }
 },
 "nbformat": 4,
 "nbformat_minor": 2
}
