{
 "cells": [
  {
   "cell_type": "code",
   "execution_count": 12,
   "metadata": {},
   "outputs": [
    {
     "name": "stdout",
     "output_type": "stream",
     "text": [
      "Enter Maths Marks44\n",
      "Enter Maths Marks44\n",
      "Enter Maths Marks44\n",
      "Enter Maths Marks44\n",
      "Enter Maths Marks44\n",
      "Total\n",
      "220\n",
      "Percentage\n",
      "44.0\n",
      "Fail\n"
     ]
    }
   ],
   "source": [
    "a=int(input(\"Enter Maths Marks\"))\n",
    "b=int(input(\"Enter Maths Marks\"))\n",
    "c=int(input(\"Enter Maths Marks\"))\n",
    "d=int(input(\"Enter Maths Marks\"))\n",
    "e=int(input(\"Enter Maths Marks\"))\n",
    "Total=a+b+c+d+e\n",
    "percentage=(Total/500)*100\n",
    "print(\"Total\")\n",
    "print(Total)\n",
    "print(\"Percentage\")\n",
    "print(percentage)\n",
    "if percentage>=80:\n",
    "  print(\"Grade A+\")\n",
    "elif percentage<80 and percentage >=70:\n",
    "  print (\"Grade A\")\n",
    "elif percentage<70 and percentage >=60:\n",
    "  print (\"Grade B\")\n",
    "elif percentage<60 and percentage >=50:\n",
    "  print (\"Grade C\")\n",
    "elif percentage <50:\n",
    "  print(\"Fail\")"
   ]
  },
  {
   "cell_type": "markdown",
   "metadata": {},
   "source": [
    "#### "
   ]
  },
  {
   "cell_type": "code",
   "execution_count": 14,
   "metadata": {},
   "outputs": [
    {
     "name": "stdout",
     "output_type": "stream",
     "text": [
      "Enter Number2\n",
      "Number is even\n"
     ]
    }
   ],
   "source": [
    "No=int(input(\"Enter Number\"))\n",
    "if No%2==0:\n",
    "  print(\"Number is even\")\n",
    "else:\n",
    "  print (\"Number is odd\")"
   ]
  },
  {
   "cell_type": "code",
   "execution_count": 22,
   "metadata": {},
   "outputs": [
    {
     "name": "stdout",
     "output_type": "stream",
     "text": [
      "Length of list: 5\n"
     ]
    }
   ],
   "source": [
    "a=[1,4,5,3,5]\n",
    "print(\"Length of list:\",len(a))"
   ]
  },
  {
   "cell_type": "code",
   "execution_count": 23,
   "metadata": {},
   "outputs": [
    {
     "name": "stdout",
     "output_type": "stream",
     "text": [
      "18\n"
     ]
    }
   ],
   "source": [
    "a=[1,4,5,3,5]\n",
    "plus=a[0]+a[1]+a[2]+a[3]+a[4]\n",
    "print(plus)"
   ]
  },
  {
   "cell_type": "code",
   "execution_count": 48,
   "metadata": {},
   "outputs": [
    {
     "name": "stdout",
     "output_type": "stream",
     "text": [
      "Largest element is: 89\n"
     ]
    }
   ],
   "source": [
    "a = [1, 1, 2, 3, 5, 8, 13, 21, 34, 55, 89]\n",
    "print(\"Largest element is:\", max(a))"
   ]
  },
  {
   "cell_type": "code",
   "execution_count": 61,
   "metadata": {},
   "outputs": [
    {
     "name": "stdout",
     "output_type": "stream",
     "text": [
      "1\n",
      "1\n",
      "2\n",
      "3\n"
     ]
    }
   ],
   "source": [
    "a = [1, 1, 2, 3, 5, 8, 13, 21, 34, 55, 89]\n",
    "\n",
    "for item in a:\n",
    "  \n",
    "  if item < 5:\n",
    "        print(item)"
   ]
  },
  {
   "cell_type": "code",
   "execution_count": null,
   "metadata": {},
   "outputs": [],
   "source": []
  },
  {
   "cell_type": "code",
   "execution_count": null,
   "metadata": {},
   "outputs": [],
   "source": []
  },
  {
   "cell_type": "code",
   "execution_count": null,
   "metadata": {},
   "outputs": [],
   "source": []
  },
  {
   "cell_type": "code",
   "execution_count": null,
   "metadata": {},
   "outputs": [],
   "source": []
  },
  {
   "cell_type": "code",
   "execution_count": null,
   "metadata": {},
   "outputs": [],
   "source": []
  },
  {
   "cell_type": "code",
   "execution_count": null,
   "metadata": {},
   "outputs": [],
   "source": []
  },
  {
   "cell_type": "code",
   "execution_count": null,
   "metadata": {},
   "outputs": [],
   "source": []
  }
 ],
 "metadata": {
  "kernelspec": {
   "display_name": "Python 3",
   "language": "python",
   "name": "python3"
  },
  "language_info": {
   "codemirror_mode": {
    "name": "ipython",
    "version": 3
   },
   "file_extension": ".py",
   "mimetype": "text/x-python",
   "name": "python",
   "nbconvert_exporter": "python",
   "pygments_lexer": "ipython3",
   "version": "3.7.4"
  }
 },
 "nbformat": 4,
 "nbformat_minor": 2
}
