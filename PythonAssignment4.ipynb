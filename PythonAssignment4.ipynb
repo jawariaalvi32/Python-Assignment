{
 "cells": [
  {
   "cell_type": "code",
   "execution_count": 1,
   "metadata": {},
   "outputs": [
    {
     "name": "stdout",
     "output_type": "stream",
     "text": [
      "{'first_name': 'Jawaria', 'last_name': 'Alvi', 'age': 20, 'city': 'Karachi'}\n",
      "Enter your Qualification: inter\n",
      "Dictionary after add new key\n",
      "{'first_name': 'Jawaria', 'last_name': 'Alvi', 'age': 20, 'city': 'Karachi', 'Qualification': 'inter'}\n",
      "Enter your Higher Academic Level: bachelors\n",
      "Dictionary after update\n",
      "{'first_name': 'Jawaria', 'last_name': 'Alvi', 'age': 20, 'city': 'Karachi', 'Qualification': 'bachelors'}\n",
      "Dictionary after delete\n",
      "{'first_name': 'Jawaria', 'last_name': 'Alvi', 'age': 20, 'city': 'Karachi'}\n"
     ]
    }
   ],
   "source": [
    "#Question 1\n",
    "\n",
    "person = {\"first_name\": \"Jawaria\", \"last_name\": \"Alvi\", \"age\": 20, \"city\": \"Karachi\"}\n",
    "print(person)\n",
    "Qualification = input(\"Enter your Qualification: \")\n",
    "person[\"Qualification\"] = Qualification\n",
    "print(\"Dictionary after add new key\")\n",
    "print(person)\n",
    "update = input(\"Enter your Higher Academic Level: \")\n",
    "person[\"Qualification\"] = update\n",
    "print(\"Dictionary after update\")\n",
    "print(person)\n",
    "del person[\"Qualification\"]\n",
    "print(\"Dictionary after delete\")\n",
    "print(person)"
   ]
  },
  {
   "cell_type": "code",
   "execution_count": 2,
   "metadata": {},
   "outputs": [
    {
     "name": "stdout",
     "output_type": "stream",
     "text": [
      "City Name:  Karachi\n",
      "Information:  {'Population': '14.91 million', 'Fact': 'Largest city of Pakistan', 'Country': 'Pakistan'}\n",
      "City Name:  Newyork\n",
      "Information:  {'Population': '8.623 million', 'Fact': 'New York City is the largest city in the United States.', 'Country': 'USA'}\n",
      "City Name:  Ankara\n",
      "Information:  {'Population': '5.445 million', 'Fact': 'It was formerly known as Angora', 'Country': 'Turkey'}\n"
     ]
    }
   ],
   "source": [
    "#Question 2\n",
    "\n",
    "cities = {\"Karachi\": {\n",
    "        \"Population\": \"14.91 million\",\n",
    "        \"Fact\": \"Largest city of Pakistan\",\n",
    "        \"Country\": \"Pakistan\"\n",
    "    },\n",
    "    \"Newyork\": {\n",
    "        \"Population\": \"8.623 million\",\n",
    "        \"Fact\": \"New York City is the largest city in the United States.\",\n",
    "        \"Country\": \"USA\"\n",
    "    },\n",
    "    \"Ankara\": {\n",
    "        \"Population\": \"5.445 million\",\n",
    "        \"Fact\": \"It was formerly known as Angora\",\n",
    "        \"Country\": \"Turkey\"\n",
    "    }\n",
    "}\n",
    "for key,value in cities.items():\n",
    "    print(\"City Name: \",key)\n",
    "    print(\"Information: \",value)"
   ]
  },
  {
   "cell_type": "code",
   "execution_count": 3,
   "metadata": {},
   "outputs": [
    {
     "name": "stdout",
     "output_type": "stream",
     "text": [
      "Enter your Age: 4\n",
      "Your ticket's price is $10\n",
      "Do you want to Continue yes\n",
      "Enter your Age: 2\n",
      "Your ticket's price is Free\n",
      "Do you want to Continue no\n"
     ]
    }
   ],
   "source": [
    "#Question 3\n",
    "\n",
    "repeat = 'yes'\n",
    "while repeat == 'yes':\n",
    "    age = int(input(\"Enter your Age: \"))\n",
    "    if age < 3:\n",
    "        print(\"Your ticket's price is Free\")\n",
    "    elif age >= 3 and age <= 12:\n",
    "        print(\"Your ticket's price is $10\")\n",
    "    elif age > 12:\n",
    "        print(\"Your ticket's is $15\")\n",
    "    else:\n",
    "        print(\"Invalid Input\")\n",
    "    repeat = input(\"Do you want to Continue \")"
   ]
  },
  {
   "cell_type": "code",
   "execution_count": 4,
   "metadata": {},
   "outputs": [
    {
     "name": "stdout",
     "output_type": "stream",
     "text": [
      "One of my favorite books is  HArry Potter\n"
     ]
    }
   ],
   "source": [
    "#Question 4\n",
    "\n",
    "def favorite_book(title):\n",
    "    print(\"One of my favorite books is \",title)\n",
    "favorite_book(\"HArry Potter\")"
   ]
  },
  {
   "cell_type": "code",
   "execution_count": 6,
   "metadata": {},
   "outputs": [
    {
     "name": "stdout",
     "output_type": "stream",
     "text": [
      "Enter the Guess Number: 4\n",
      "Number is largerthan your guess\n",
      "Enter the Guess Number: 5\n",
      "Number is largerthan your guess\n",
      "Enter the Guess Number: 22\n",
      "Number is smaller than your guess \n",
      "Incorrect guesses\n",
      "Correct Number:  2\n"
     ]
    }
   ],
   "source": [
    "#Question 5\n",
    "import random\n",
    "\n",
    "count = 0\n",
    "while count < 3:\n",
    "    guess = int(input(\"Enter the Guess Number: \"))\n",
    "    count += 1\n",
    "    rand = random.randint(1,30)\n",
    "    if guess == rand:\n",
    "        print(\"You Guess a Correct Number\")\n",
    "    elif guess > rand:\n",
    "        print(\"Number is smaller than your guess \")\n",
    "    elif guess < rand:\n",
    "        print(\"Number is largerthan your guess\")\n",
    "print(\"Incorrect guesses\")\n",
    "print(\"Correct Number: \",rand)"
   ]
  },
  {
   "cell_type": "code",
   "execution_count": null,
   "metadata": {},
   "outputs": [],
   "source": []
  },
  {
   "cell_type": "code",
   "execution_count": null,
   "metadata": {},
   "outputs": [],
   "source": []
  }
 ],
 "metadata": {
  "kernelspec": {
   "display_name": "Python 3",
   "language": "python",
   "name": "python3"
  },
  "language_info": {
   "codemirror_mode": {
    "name": "ipython",
    "version": 3
   },
   "file_extension": ".py",
   "mimetype": "text/x-python",
   "name": "python",
   "nbconvert_exporter": "python",
   "pygments_lexer": "ipython3",
   "version": "3.7.4"
  }
 },
 "nbformat": 4,
 "nbformat_minor": 2
}
